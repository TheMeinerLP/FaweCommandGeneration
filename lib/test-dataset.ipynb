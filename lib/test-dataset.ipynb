{
 "cells": [
  {
   "cell_type": "code",
   "execution_count": 7,
   "metadata": {
    "collapsed": true,
    "ExecuteTime": {
     "end_time": "2023-10-09T11:53:50.815635431Z",
     "start_time": "2023-10-09T11:53:50.772632152Z"
    }
   },
   "outputs": [],
   "source": [
    "import pandas as pd\n",
    "from datasets import load_dataset\n",
    "from transformers import AutoTokenizer, AutoConfig\n",
    "import json\n",
    "import matplotlib.pyplot as plt\n",
    "from pathlib import Path"
   ]
  },
  {
   "cell_type": "code",
   "execution_count": 8,
   "outputs": [
    {
     "name": "stdout",
     "output_type": "stream",
     "text": [
      "Downloading and preparing dataset csv/default to /home/themeinerlp/.cache/huggingface/datasets/csv/default-2d1e09a968455525/0.0.0/6954658bab30a358235fa864b05cf819af0e179325c740e4bc853bcc7ec513e1...\n"
     ]
    },
    {
     "name": "stderr",
     "output_type": "stream",
     "text": [
      "Downloading data files: 100%|██████████| 1/1 [00:00<00:00, 5745.62it/s]\n",
      "Extracting data files: 100%|██████████| 1/1 [00:00<00:00, 2129.09it/s]\n",
      "Generating train split: 0 examples [00:00, ? examples/s]/home/themeinerlp/miniconda3/envs/FaweCommandGeneration2/lib/python3.11/site-packages/pyarrow/pandas_compat.py:373: FutureWarning: is_sparse is deprecated and will be removed in a future version. Check `isinstance(dtype, pd.SparseDtype)` instead.\n",
      "  if _pandas_api.is_sparse(col):\n",
      "                                                        "
     ]
    },
    {
     "name": "stdout",
     "output_type": "stream",
     "text": [
      "Dataset csv downloaded and prepared to /home/themeinerlp/.cache/huggingface/datasets/csv/default-2d1e09a968455525/0.0.0/6954658bab30a358235fa864b05cf819af0e179325c740e4bc853bcc7ec513e1. Subsequent calls will reuse this data.\n"
     ]
    },
    {
     "name": "stderr",
     "output_type": "stream",
     "text": [
      "\r"
     ]
    }
   ],
   "source": [
    "custom_dataset = load_dataset(\"csv\", data_files=['../datasets/train.csv'], split='train')"
   ],
   "metadata": {
    "collapsed": false,
    "ExecuteTime": {
     "end_time": "2023-10-09T11:53:52.108204772Z",
     "start_time": "2023-10-09T11:53:51.554252458Z"
    }
   }
  },
  {
   "cell_type": "code",
   "execution_count": 9,
   "outputs": [],
   "source": [
    "from dataclasses import dataclass, field\n",
    "from pathlib import Path\n",
    "from typing import Optional\n",
    "\n",
    "from transformers import AutoConfig, AutoTokenizer, AutoModelForSeq2SeqLM\n",
    "from transformers.trainer_utils import get_last_checkpoint\n",
    "\n",
    "\n",
    "@dataclass\n",
    "class ModelArguments:\n",
    "    \"\"\"\n",
    "    Arguments pertaining to which model/config/tokenizer we are going to fine-tune from.\n",
    "    \"\"\"\n",
    "\n",
    "    model_name_or_path: str = field(\n",
    "        metadata={\n",
    "            \"help\": \"Path to pretrained model or model identifier from huggingface.co/models\"\n",
    "        }\n",
    "    )\n",
    "    config_name: Optional[str] = field(\n",
    "        default=None,\n",
    "        metadata={\n",
    "            \"help\": \"Pretrained config name or path if not the same as model_name\"\n",
    "        },\n",
    "    )\n",
    "    tokenizer_name: Optional[str] = field(\n",
    "        default=None,\n",
    "        metadata={\n",
    "            \"help\": \"Pretrained tokenizer name or path if not the same as model_name\"\n",
    "        },\n",
    "    )\n",
    "    cache_dir: Optional[str] = field(\n",
    "        default=None,\n",
    "        metadata={\n",
    "            \"help\": \"Where to store the pretrained models downloaded from huggingface.co\"\n",
    "        },\n",
    "    )\n",
    "    use_fast_tokenizer: bool = field(\n",
    "        default=True,\n",
    "        metadata={\n",
    "            \"help\": \"Whether to use one of the fast tokenizer (backed by the tokenizers library) or not.\"\n",
    "        },\n",
    "    )\n",
    "    model_revision: str = field(\n",
    "        default=\"main\",\n",
    "        metadata={\n",
    "            \"help\": \"The specific model version to use (can be a branch name, tag name or commit id).\"\n",
    "        },\n",
    "    )\n",
    "    use_auth_token: bool = field(\n",
    "        default=False,\n",
    "        metadata={\n",
    "            \"help\": \"Will use the token generated when running `transformers-cli login` (necessary to use this script \"\n",
    "                    \"with private models).\"\n",
    "        },\n",
    "    )\n",
    "\n",
    "\n",
    "@dataclass\n",
    "class DataTrainingArguments:\n",
    "    \"\"\"\n",
    "    Arguments pertaining to what data we are going to input our model for training and eval.\n",
    "    \"\"\"\n",
    "\n",
    "    source_lang: str = field(\n",
    "        default=None, metadata={\"help\": \"Source language id for translation.\"}\n",
    "    )\n",
    "    target_lang: str = field(\n",
    "        default=None, metadata={\"help\": \"Target language id for translation.\"}\n",
    "    )\n",
    "\n",
    "    dataset_name: Optional[str] = field(\n",
    "        default=None,\n",
    "        metadata={\"help\": \"The name of the dataset to use (via the datasets library).\"},\n",
    "    )\n",
    "    input_column_name: Optional[str] = field(\n",
    "        default=None,\n",
    "        metadata={\"help\": \"The column name of the input in the dataset.\"},\n",
    "    )\n",
    "    target_column_name: Optional[str] = field(\n",
    "        default=None,\n",
    "        metadata={\"help\": \"The column name of the target in the dataset.\"},\n",
    "    )\n",
    "    e2e: Optional[bool] = (\n",
    "        field(default=False, metadata={\"help\": \"Prepare data for e2e\"}),\n",
    "    )\n",
    "    dataset_config_name: Optional[str] = field(\n",
    "        default=None,\n",
    "        metadata={\n",
    "            \"help\": \"The configuration name of the dataset to use (via the datasets library).\"\n",
    "        },\n",
    "    )\n",
    "    dataset_field_name: Optional[str] = field(\n",
    "        default=None,\n",
    "        metadata={\"help\": \"The field name, useful when the data is stored as json.\"},\n",
    "    )\n",
    "    train_file: Optional[str] = field(\n",
    "        default=None, metadata={\"help\": \"The input training data file (a jsonlines).\"}\n",
    "    )\n",
    "    validation_file: Optional[str] = field(\n",
    "        default=None,\n",
    "        metadata={\n",
    "            \"help\": \"An optional input evaluation data file to evaluate the metrics (sacreblue) on \"\n",
    "                    \"a jsonlines file.\"\n",
    "        },\n",
    "    )\n",
    "    test_file: Optional[str] = field(\n",
    "        default=None,\n",
    "        metadata={\n",
    "            \"help\": \"An optional input test data file to evaluate the metrics (sacreblue) on \"\n",
    "                    \"a jsonlines file.\"\n",
    "        },\n",
    "    )\n",
    "    overwrite_cache: bool = field(\n",
    "        default=False,\n",
    "        metadata={\"help\": \"Overwrite the cached training and evaluation sets\"},\n",
    "    )\n",
    "    preprocessing_num_workers: Optional[int] = field(\n",
    "        default=None,\n",
    "        metadata={\"help\": \"The number of processes to use for the preprocessing.\"},\n",
    "    )\n",
    "    max_source_length: Optional[int] = field(\n",
    "        default=1024,\n",
    "        metadata={\n",
    "            \"help\": \"The maximum total input sequence length after tokenization. Sequences longer \"\n",
    "                    \"than this will be truncated, sequences shorter will be padded.\"\n",
    "        },\n",
    "    )\n",
    "    max_target_length: Optional[int] = field(\n",
    "        default=128,\n",
    "        metadata={\n",
    "            \"help\": \"The maximum total sequence length for target text after tokenization. Sequences longer \"\n",
    "                    \"than this will be truncated, sequences shorter will be padded.\"\n",
    "        },\n",
    "    )\n",
    "    val_max_target_length: Optional[int] = field(\n",
    "        default=None,\n",
    "        metadata={\n",
    "            \"help\": \"The maximum total sequence length for validation target text after tokenization. Sequences longer \"\n",
    "                    \"than this will be truncated, sequences shorter will be padded. Will default to `max_target_length`.\"\n",
    "                    \"This argument is also used to override the ``max_length`` param of ``model.generate``, which is used \"\n",
    "                    \"during ``evaluate`` and ``predict``.\"\n",
    "        },\n",
    "    )\n",
    "    pad_to_max_length: bool = field(\n",
    "        default=False,\n",
    "        metadata={\n",
    "            \"help\": \"Whether to pad all samples to model maximum sentence length. \"\n",
    "                    \"If False, will pad the samples dynamically when batching to the maximum length in the batch. More \"\n",
    "                    \"efficient on GPU but very bad for TPU.\"\n",
    "        },\n",
    "    )\n",
    "    max_train_samples: Optional[int] = field(\n",
    "        default=None,\n",
    "        metadata={\n",
    "            \"help\": \"For debugging purposes or quicker training, truncate the number of training examples to this \"\n",
    "                    \"value if set.\"\n",
    "        },\n",
    "    )\n",
    "    max_eval_samples: Optional[int] = field(\n",
    "        default=None,\n",
    "        metadata={\n",
    "            \"help\": \"For debugging purposes or quicker training, truncate the number of evaluation examples to this \"\n",
    "                    \"value if set.\"\n",
    "        },\n",
    "    )\n",
    "    max_predict_samples: Optional[int] = field(\n",
    "        default=None,\n",
    "        metadata={\n",
    "            \"help\": \"For debugging purposes or quicker training, truncate the number of prediction examples to this \"\n",
    "                    \"value if set.\"\n",
    "        },\n",
    "    )\n",
    "    num_beams: Optional[int] = field(\n",
    "        default=None,\n",
    "        metadata={\n",
    "            \"help\": \"Number of beams to use for evaluation. This argument will be passed to ``model.generate``, \"\n",
    "                    \"which is used during ``evaluate`` and ``predict``.\"\n",
    "        },\n",
    "    )\n",
    "    repetition_penalty: float = field(\n",
    "        default=1.0,\n",
    "        metadata={\n",
    "            \"help\": \"The parameter for repetition penalty. 1.0 means no penalty. See \"\n",
    "                    \"https://arxiv.org/abs/1909.05858 for more details.\"\n",
    "        },\n",
    "    )\n",
    "    length_penalty: float = field(\n",
    "        default=1.0,\n",
    "        metadata={\n",
    "            \"help\": \"Exponential penalty to the length that is used with beam-based generation. \"\n",
    "                    \"It is applied as an exponent to the sequence length, \"\n",
    "                    \"which in turn is used to divide the score of the sequence. \"\n",
    "                    \"Since the score is the log likelihood of the sequence (i.e. negative), length_penalty > 0.0 \"\n",
    "                    \"promotes longer sequences, while length_penalty < 0.0 encourages shorter sequences.\"\n",
    "        },\n",
    "    )\n",
    "    ignore_pad_token_for_loss: bool = field(\n",
    "        default=True,\n",
    "        metadata={\n",
    "            \"help\": \"Whether to ignore the tokens corresponding to padded labels in the loss computation or not.\"\n",
    "        },\n",
    "    )\n",
    "    source_prefix: Optional[str] = field(\n",
    "        default=None,\n",
    "        metadata={\n",
    "            \"help\": \"A prefix to add before every source text (useful for T5 models).\"\n",
    "        },\n",
    "    )\n",
    "    forced_bos_token: Optional[str] = field(\n",
    "        default=None,\n",
    "        metadata={\n",
    "            \"help\": \"The token to force as the first generated token after the :obj:`decoder_start_token_id`.\"\n",
    "                    \"Useful for multilingual models like :doc:`mBART <../model_doc/mbart>` where the first generated token \"\n",
    "                    \"needs to be the target language token.(Usually it is the target language token)\"\n",
    "        },\n",
    "    )\n",
    "\n",
    "    def __post_init__(self):\n",
    "\n",
    "        if self.train_file is not None:\n",
    "            extension = self.train_file.split(\".\")[-1]\n",
    "            assert extension == \"json\", \"`train_file` should be a json file.\"\n",
    "        if self.validation_file is not None:\n",
    "            extension = self.validation_file.split(\".\")[-1]\n",
    "            assert extension == \"json\", \"`validation_file` should be a json file.\"\n",
    "        if self.val_max_target_length is None:\n",
    "            self.val_max_target_length = self.max_target_length\n",
    "\n",
    "\n",
    "def load_model(model_path: str) -> tuple[AutoConfig, AutoTokenizer, AutoModelForSeq2SeqLM]:\n",
    "    if Path(model_path).exists():\n",
    "        last_checkpoint = get_last_checkpoint(model_path)\n",
    "        if last_checkpoint is not None:\n",
    "            model_path = last_checkpoint\n",
    "\n",
    "    config = AutoConfig.from_pretrained(model_path)\n",
    "    tokenizer = AutoTokenizer.from_pretrained(model_path)\n",
    "    model = AutoModelForSeq2SeqLM.from_pretrained(model_path, config=config)\n",
    "    print(\"Loaded model from\", model_path)\n",
    "    return config, tokenizer, model"
   ],
   "metadata": {
    "collapsed": false,
    "ExecuteTime": {
     "end_time": "2023-10-09T11:53:52.688404708Z",
     "start_time": "2023-10-09T11:53:52.672795774Z"
    }
   }
  },
  {
   "cell_type": "code",
   "execution_count": 10,
   "outputs": [
    {
     "name": "stdout",
     "output_type": "stream",
     "text": [
      "Loaded model from ../output/models/english-fawecommandgerneration-mt5-small-512\n"
     ]
    }
   ],
   "source": [
    "script_config = json.loads(Path(\"../script_config.json\").read_text(\"utf-8\"))\n",
    "config, tokenizer, model = load_model(Path(\"..\") / Path(script_config[\"output_dir\"]))"
   ],
   "metadata": {
    "collapsed": false,
    "ExecuteTime": {
     "end_time": "2023-10-09T11:53:56.118855413Z",
     "start_time": "2023-10-09T11:53:53.261497455Z"
    }
   }
  },
  {
   "cell_type": "code",
   "execution_count": 11,
   "outputs": [],
   "source": [
    "df = pd.DataFrame(custom_dataset)"
   ],
   "metadata": {
    "collapsed": false,
    "ExecuteTime": {
     "end_time": "2023-10-09T11:53:56.168252113Z",
     "start_time": "2023-10-09T11:53:56.119326278Z"
    }
   }
  },
  {
   "cell_type": "code",
   "execution_count": 12,
   "outputs": [
    {
     "name": "stderr",
     "output_type": "stream",
     "text": [
      "Asking to truncate to max_length but no maximum length is provided and the model has no predefined maximum length. Default to no truncation.\n"
     ]
    },
    {
     "data": {
      "text/plain": "                           command  \\\n0                      //gmask air   \n1                          //gmask   \n2                      //set stone   \n3                           //undo   \n4              //replace stone air   \n5              //br sphere stone 5   \n6                           //wand   \n7                    //gmask y>15    \n8   //deform z+=0.314*sin(y^2+x^2)   \n9     //deform z+=0.5*sin(y^2+x^2)   \n10    //deform z+=0.7*sin(y^2+x^2)   \n11    //deform z+=0.7*sin(y^2+x^2)   \n12    //deform z+=0.7*sin(y^2+x^2)   \n13    //deform z+=0.7*sin(y^2+x^2)   \n14    //deform z+=0.7*sin(y^2+x^2)   \n15    //deform z+=0.7*sin(y^2+x^2)   \n\n                                          description  \\\n0                            create a global air mask   \n1                                 disable global mask   \n2                                           set stone   \n3                              undo my last operation   \n4                                replace stone to air   \n5   bind me a brush sphere with a size of 5 and th...   \n6                                      give me a wand   \n7   create a mask that allows on a mask above 15 i...   \n8   make a curve deformation with a intensity of 0...   \n9   How make i a curve deformation with a intensit...   \n10   make a curve deformation with a intensity of 0.7   \n11  Perform a curve deformation with an intensity ...   \n12  Create a curve distortion with an intensity va...   \n13  Execute a deformation of the curve with an int...   \n14  Make a curve deformation with an intensity rat...   \n15  Implement a curve deformation with an intensit...   \n\n                              paragraph_answer_tokens  \\\n0                                [▁//, g, mask, ▁air]   \n1                                      [▁//, g, mask]   \n2                                  [▁//, set, ▁stone]   \n3                                         [▁//, undo]   \n4                        [▁//, replace, ▁stone, ▁air]   \n5                    [▁//, br, ▁, sphere, ▁stone, ▁5]   \n6                                         [▁//, wand]   \n7                      [▁//, g, mask, ▁, y, >, 15, ▁]   \n8   [▁//, de, form, ▁z, +=, 0.31, 4*, sin, (, y, ^...   \n9   [▁//, de, form, ▁z, +=, 0.5, *, sin, (, y, ^2,...   \n10  [▁//, de, form, ▁z, +=, 0.7, *, sin, (, y, ^2,...   \n11  [▁//, de, form, ▁z, +=, 0.7, *, sin, (, y, ^2,...   \n12  [▁//, de, form, ▁z, +=, 0.7, *, sin, (, y, ^2,...   \n13  [▁//, de, form, ▁z, +=, 0.7, *, sin, (, y, ^2,...   \n14  [▁//, de, form, ▁z, +=, 0.7, *, sin, (, y, ^2,...   \n15  [▁//, de, form, ▁z, +=, 0.7, *, sin, (, y, ^2,...   \n\n    paragraph_answer_tokens_len  \n0                             4  \n1                             3  \n2                             3  \n3                             2  \n4                             4  \n5                             6  \n6                             2  \n7                             8  \n8                            15  \n9                            15  \n10                           15  \n11                           15  \n12                           15  \n13                           15  \n14                           15  \n15                           15  ",
      "text/html": "<div>\n<style scoped>\n    .dataframe tbody tr th:only-of-type {\n        vertical-align: middle;\n    }\n\n    .dataframe tbody tr th {\n        vertical-align: top;\n    }\n\n    .dataframe thead th {\n        text-align: right;\n    }\n</style>\n<table border=\"1\" class=\"dataframe\">\n  <thead>\n    <tr style=\"text-align: right;\">\n      <th></th>\n      <th>command</th>\n      <th>description</th>\n      <th>paragraph_answer_tokens</th>\n      <th>paragraph_answer_tokens_len</th>\n    </tr>\n  </thead>\n  <tbody>\n    <tr>\n      <th>0</th>\n      <td>//gmask air</td>\n      <td>create a global air mask</td>\n      <td>[▁//, g, mask, ▁air]</td>\n      <td>4</td>\n    </tr>\n    <tr>\n      <th>1</th>\n      <td>//gmask</td>\n      <td>disable global mask</td>\n      <td>[▁//, g, mask]</td>\n      <td>3</td>\n    </tr>\n    <tr>\n      <th>2</th>\n      <td>//set stone</td>\n      <td>set stone</td>\n      <td>[▁//, set, ▁stone]</td>\n      <td>3</td>\n    </tr>\n    <tr>\n      <th>3</th>\n      <td>//undo</td>\n      <td>undo my last operation</td>\n      <td>[▁//, undo]</td>\n      <td>2</td>\n    </tr>\n    <tr>\n      <th>4</th>\n      <td>//replace stone air</td>\n      <td>replace stone to air</td>\n      <td>[▁//, replace, ▁stone, ▁air]</td>\n      <td>4</td>\n    </tr>\n    <tr>\n      <th>5</th>\n      <td>//br sphere stone 5</td>\n      <td>bind me a brush sphere with a size of 5 and th...</td>\n      <td>[▁//, br, ▁, sphere, ▁stone, ▁5]</td>\n      <td>6</td>\n    </tr>\n    <tr>\n      <th>6</th>\n      <td>//wand</td>\n      <td>give me a wand</td>\n      <td>[▁//, wand]</td>\n      <td>2</td>\n    </tr>\n    <tr>\n      <th>7</th>\n      <td>//gmask y&gt;15</td>\n      <td>create a mask that allows on a mask above 15 i...</td>\n      <td>[▁//, g, mask, ▁, y, &gt;, 15, ▁]</td>\n      <td>8</td>\n    </tr>\n    <tr>\n      <th>8</th>\n      <td>//deform z+=0.314*sin(y^2+x^2)</td>\n      <td>make a curve deformation with a intensity of 0...</td>\n      <td>[▁//, de, form, ▁z, +=, 0.31, 4*, sin, (, y, ^...</td>\n      <td>15</td>\n    </tr>\n    <tr>\n      <th>9</th>\n      <td>//deform z+=0.5*sin(y^2+x^2)</td>\n      <td>How make i a curve deformation with a intensit...</td>\n      <td>[▁//, de, form, ▁z, +=, 0.5, *, sin, (, y, ^2,...</td>\n      <td>15</td>\n    </tr>\n    <tr>\n      <th>10</th>\n      <td>//deform z+=0.7*sin(y^2+x^2)</td>\n      <td>make a curve deformation with a intensity of 0.7</td>\n      <td>[▁//, de, form, ▁z, +=, 0.7, *, sin, (, y, ^2,...</td>\n      <td>15</td>\n    </tr>\n    <tr>\n      <th>11</th>\n      <td>//deform z+=0.7*sin(y^2+x^2)</td>\n      <td>Perform a curve deformation with an intensity ...</td>\n      <td>[▁//, de, form, ▁z, +=, 0.7, *, sin, (, y, ^2,...</td>\n      <td>15</td>\n    </tr>\n    <tr>\n      <th>12</th>\n      <td>//deform z+=0.7*sin(y^2+x^2)</td>\n      <td>Create a curve distortion with an intensity va...</td>\n      <td>[▁//, de, form, ▁z, +=, 0.7, *, sin, (, y, ^2,...</td>\n      <td>15</td>\n    </tr>\n    <tr>\n      <th>13</th>\n      <td>//deform z+=0.7*sin(y^2+x^2)</td>\n      <td>Execute a deformation of the curve with an int...</td>\n      <td>[▁//, de, form, ▁z, +=, 0.7, *, sin, (, y, ^2,...</td>\n      <td>15</td>\n    </tr>\n    <tr>\n      <th>14</th>\n      <td>//deform z+=0.7*sin(y^2+x^2)</td>\n      <td>Make a curve deformation with an intensity rat...</td>\n      <td>[▁//, de, form, ▁z, +=, 0.7, *, sin, (, y, ^2,...</td>\n      <td>15</td>\n    </tr>\n    <tr>\n      <th>15</th>\n      <td>//deform z+=0.7*sin(y^2+x^2)</td>\n      <td>Implement a curve deformation with an intensit...</td>\n      <td>[▁//, de, form, ▁z, +=, 0.7, *, sin, (, y, ^2,...</td>\n      <td>15</td>\n    </tr>\n  </tbody>\n</table>\n</div>"
     },
     "execution_count": 12,
     "metadata": {},
     "output_type": "execute_result"
    }
   ],
   "source": [
    "\n",
    "df[\"paragraph_answer_tokens\"] = df[\"command\"].map(lambda p: tokenizer.tokenize(p, truncation=True))\n",
    "df[\"paragraph_answer_tokens_len\"] = df[\"paragraph_answer_tokens\"].map(len)\n",
    "df[[\"command\", \"question\", \"paragraph_answer_tokens\", \"paragraph_answer_tokens_len\"]].head(16)"
   ],
   "metadata": {
    "collapsed": false,
    "ExecuteTime": {
     "end_time": "2023-10-09T11:53:56.169230094Z",
     "start_time": "2023-10-09T11:53:56.167501374Z"
    }
   }
  },
  {
   "cell_type": "code",
   "execution_count": 13,
   "outputs": [
    {
     "name": "stdout",
     "output_type": "stream",
     "text": [
      "                                               command  \\\n",
      "192  //br blob #simplex[21][lime_terracotta,gray_te...   \n",
      "182  //br blob #simplex[10][green_wool,yellow_wool]...   \n",
      "186  //br blob #simplex[6][cyan_wool,light_gray_woo...   \n",
      "190  //br blob #simplex[13][purple_terracotta,pink_...   \n",
      "185  //br blob #simplex[20][lime_wool,gray_wool] 20...   \n",
      "\n",
      "                                           description  q_len  label_len  \n",
      "192  Create a blob using a simplex noise pattern wi...     74         29  \n",
      "182  Create a blob using a simplex noise pattern wi...     73         24  \n",
      "186  Create a blob using a simplex noise pattern wi...     73         25  \n",
      "190  Create a blob using a simplex noise pattern wi...     73         28  \n",
      "185  Create a blob using a simplex noise pattern wi...     73         25  \n"
     ]
    }
   ],
   "source": [
    "df = pd.DataFrame(custom_dataset)\n",
    "df[\"q_len\"] = df[\"question\"].map(tokenizer.encode).map(len)\n",
    "df[\"label_len\"] = df[\"command\"].map(tokenizer.encode).map(len)\n",
    "df.sort_values(by=[\"q_len\"], ascending=False, inplace=True)\n",
    "print(df.head())\n"
   ],
   "metadata": {
    "collapsed": false,
    "ExecuteTime": {
     "end_time": "2023-10-09T11:53:56.245545923Z",
     "start_time": "2023-10-09T11:53:56.167697677Z"
    }
   }
  },
  {
   "cell_type": "code",
   "execution_count": 14,
   "outputs": [
    {
     "name": "stdout",
     "output_type": "stream",
     "text": [
      "                                               command  \\\n",
      "222  //generate light_blue_wool N=18; a=atan2(x,z);...   \n",
      "223  //generate light_gray_wool N=20; a=atan2(x,z);...   \n",
      "221  //generate gray_wool N=17; a=atan2(x,z); r=(co...   \n",
      "213  //generate purple_wool N=9; a=atan2(x,z); r=(c...   \n",
      "211  //generate green_wool N=7; a=atan2(x,z); r=(co...   \n",
      "\n",
      "                                           description  q_len  label_len  \n",
      "222  Create a cool 18-sided shape on the ground usi...     38         65  \n",
      "223  Create a cool 20-sided shape on the ground usi...     39         65  \n",
      "221  Create a cool 17-sided shape on the ground usi...     38         64  \n",
      "213  Create a cool 9-sided shape on the ground usin...     38         64  \n",
      "211  Create a cool 7-sided shape on the ground usin...     37         63  \n"
     ]
    }
   ],
   "source": [
    "df.sort_values(by=[\"label_len\"], ascending=False, inplace=True)\n",
    "print(df.head())"
   ],
   "metadata": {
    "collapsed": false,
    "ExecuteTime": {
     "end_time": "2023-10-09T11:53:56.245885287Z",
     "start_time": "2023-10-09T11:53:56.215505439Z"
    }
   }
  },
  {
   "cell_type": "code",
   "execution_count": 15,
   "outputs": [
    {
     "data": {
      "text/plain": "<Figure size 640x480 with 1 Axes>",
      "image/png": "[encoded data removed]"
     },
     "metadata": {},
     "output_type": "display_data"
    },
    {
     "data": {
      "text/plain": "<Figure size 640x480 with 1 Axes>",
      "image/png": "[encoded data removed]"
     },
     "metadata": {},
     "output_type": "display_data"
    }
   ],
   "source": [
    "plt.hist(df[\"label_len\"], bins=25, color=\"orange\")\n",
    "plt.title(\"Label length distribution\")\n",
    "plt.show()\n",
    "plt.hist(df[\"q_len\"], bins=20)\n",
    "plt.title(\"Question length distribution\")\n",
    "plt.show()"
   ],
   "metadata": {
    "collapsed": false,
    "ExecuteTime": {
     "end_time": "2023-10-09T11:53:59.156842909Z",
     "start_time": "2023-10-09T11:53:58.921297576Z"
    }
   }
  },
  {
   "cell_type": "code",
   "execution_count": 8,
   "outputs": [
    {
     "data": {
      "text/plain": "1162"
     },
     "execution_count": 8,
     "metadata": {},
     "output_type": "execute_result"
    }
   ],
   "source": [
    "text = \"\"\"\"\"\"\n",
    "\n",
    "len(tokenizer.tokenize(text))\n"
   ],
   "metadata": {
    "collapsed": false,
    "ExecuteTime": {
     "end_time": "2023-05-20T08:42:00.045375600Z",
     "start_time": "2023-05-20T08:42:00.023578100Z"
    }
   }
  }
 ],
 "metadata": {
  "kernelspec": {
   "display_name": "Python 3",
   "language": "python",
   "name": "python3"
  },
  "language_info": {
   "codemirror_mode": {
    "name": "ipython",
    "version": 2
   },
   "file_extension": ".py",
   "mimetype": "text/x-python",
   "name": "python",
   "nbconvert_exporter": "python",
   "pygments_lexer": "ipython2",
   "version": "2.7.6"
  }
 },
 "nbformat": 4,
 "nbformat_minor": 0
}
