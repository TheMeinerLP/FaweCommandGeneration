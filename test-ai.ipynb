{
 "cells": [
  {
   "cell_type": "code",
   "execution_count": 1,
   "id": "initial_id",
   "metadata": {
    "collapsed": true,
    "ExecuteTime": {
     "end_time": "2023-10-08T12:15:46.605026385Z",
     "start_time": "2023-10-08T12:15:45.346367750Z"
    }
   },
   "outputs": [
    {
     "name": "stderr",
     "output_type": "stream",
     "text": [
      "/home/themeinerlp/miniconda3/envs/FaweCommandGeneration2/lib/python3.11/site-packages/tqdm/auto.py:21: TqdmWarning: IProgress not found. Please update jupyter and ipywidgets. See https://ipywidgets.readthedocs.io/en/stable/user_install.html\n",
      "  from .autonotebook import tqdm as notebook_tqdm\n"
     ]
    }
   ],
   "source": [
    "import torch\n",
    "from transformers import pipeline"
   ]
  },
  {
   "cell_type": "code",
   "execution_count": 4,
   "outputs": [],
   "source": [
    "pipe = pipeline(\"text2text-generation\", model=\"output/models/english-fawecommandgerneration-mt5-large-512\", device=0)"
   ],
   "metadata": {
    "collapsed": false,
    "ExecuteTime": {
     "end_time": "2023-10-08T12:18:31.305957077Z",
     "start_time": "2023-10-08T12:18:23.136002395Z"
    }
   },
   "id": "66a1bea853b024e1"
  },
  {
   "cell_type": "code",
   "execution_count": 5,
   "outputs": [
    {
     "name": "stderr",
     "output_type": "stream",
     "text": [
      "/home/themeinerlp/miniconda3/envs/FaweCommandGeneration2/lib/python3.11/site-packages/transformers/generation/utils.py:1411: UserWarning: You have modified the pretrained model configuration to control generation. This is a deprecated strategy to control generation and will be removed soon, in a future version. Please use a generation configuration file (see https://huggingface.co/docs/transformers/main_classes/text_generation )\n",
      "  warnings.warn(\n"
     ]
    },
    {
     "data": {
      "text/plain": "''"
     },
     "execution_count": 5,
     "metadata": {},
     "output_type": "execute_result"
    }
   ],
   "source": [
    "pipe(\"let it snow in a radius of 3500 blocks\")[0]['generated_text']"
   ],
   "metadata": {
    "collapsed": false,
    "ExecuteTime": {
     "end_time": "2023-10-08T12:18:40.223521309Z",
     "start_time": "2023-10-08T12:18:37.795213551Z"
    }
   },
   "id": "58aaa0a63d49b61e"
  },
  {
   "cell_type": "code",
   "execution_count": 6,
   "outputs": [
    {
     "data": {
      "text/plain": "[{'generated_text': ''}]"
     },
     "execution_count": 6,
     "metadata": {},
     "output_type": "execute_result"
    }
   ],
   "source": [
    "pipe(\"let it snow in a radius of 3500 blocks\")"
   ],
   "metadata": {
    "collapsed": false,
    "ExecuteTime": {
     "end_time": "2023-10-08T12:18:43.136314657Z",
     "start_time": "2023-10-08T12:18:41.194022846Z"
    }
   },
   "id": "2ca5a011fefcc749"
  },
  {
   "cell_type": "code",
   "execution_count": 7,
   "outputs": [],
   "source": [
    "import pandas as pd"
   ],
   "metadata": {
    "collapsed": false,
    "ExecuteTime": {
     "end_time": "2023-10-08T12:18:45.006617819Z",
     "start_time": "2023-10-08T12:18:44.508763717Z"
    }
   },
   "id": "3df210172ba7e527"
  },
  {
   "cell_type": "code",
   "execution_count": 8,
   "outputs": [],
   "source": [
    "csv = pd.read_csv('datasets/train.csv')"
   ],
   "metadata": {
    "collapsed": false,
    "ExecuteTime": {
     "end_time": "2023-10-08T12:18:45.578485529Z",
     "start_time": "2023-10-08T12:18:45.532268301Z"
    }
   },
   "id": "892f9aec3aaa2f7a"
  },
  {
   "cell_type": "code",
   "execution_count": 9,
   "outputs": [
    {
     "data": {
      "text/plain": "               command               description\n0          //gmask air  create a global air mask\n1              //gmask       disable global mask\n2          //set stone                 set stone\n3               //undo    undo my last operation\n4  //replace stone air      replace stone to air",
      "text/html": "<div>\n<style scoped>\n    .dataframe tbody tr th:only-of-type {\n        vertical-align: middle;\n    }\n\n    .dataframe tbody tr th {\n        vertical-align: top;\n    }\n\n    .dataframe thead th {\n        text-align: right;\n    }\n</style>\n<table border=\"1\" class=\"dataframe\">\n  <thead>\n    <tr style=\"text-align: right;\">\n      <th></th>\n      <th>command</th>\n      <th>description</th>\n    </tr>\n  </thead>\n  <tbody>\n    <tr>\n      <th>0</th>\n      <td>//gmask air</td>\n      <td>create a global air mask</td>\n    </tr>\n    <tr>\n      <th>1</th>\n      <td>//gmask</td>\n      <td>disable global mask</td>\n    </tr>\n    <tr>\n      <th>2</th>\n      <td>//set stone</td>\n      <td>set stone</td>\n    </tr>\n    <tr>\n      <th>3</th>\n      <td>//undo</td>\n      <td>undo my last operation</td>\n    </tr>\n    <tr>\n      <th>4</th>\n      <td>//replace stone air</td>\n      <td>replace stone to air</td>\n    </tr>\n  </tbody>\n</table>\n</div>"
     },
     "execution_count": 9,
     "metadata": {},
     "output_type": "execute_result"
    }
   ],
   "source": [
    "csv.head()"
   ],
   "metadata": {
    "collapsed": false,
    "ExecuteTime": {
     "end_time": "2023-10-08T12:18:46.503712827Z",
     "start_time": "2023-10-08T12:18:46.499669725Z"
    }
   },
   "id": "effb67277ee916ef"
  },
  {
   "cell_type": "code",
   "execution_count": 10,
   "outputs": [
    {
     "data": {
      "text/plain": "[{'generated_text': ''},\n {'generated_text': ''},\n {'generated_text': ''},\n {'generated_text': ''},\n {'generated_text': ''},\n {'generated_text': ''},\n {'generated_text': ''},\n {'generated_text': ''},\n {'generated_text': ''},\n {'generated_text': ''},\n {'generated_text': ''},\n {'generated_text': ''},\n {'generated_text': ''},\n {'generated_text': ''},\n {'generated_text': ''},\n {'generated_text': ''},\n {'generated_text': ''},\n {'generated_text': ''},\n {'generated_text': ''},\n {'generated_text': ''},\n {'generated_text': ''},\n {'generated_text': ''},\n {'generated_text': ''},\n {'generated_text': ''},\n {'generated_text': ''},\n {'generated_text': ''},\n {'generated_text': ''},\n {'generated_text': ''},\n {'generated_text': ''},\n {'generated_text': ''},\n {'generated_text': ''},\n {'generated_text': ''},\n {'generated_text': ''},\n {'generated_text': ''},\n {'generated_text': ''},\n {'generated_text': ''},\n {'generated_text': ''},\n {'generated_text': ''},\n {'generated_text': ''},\n {'generated_text': ''},\n {'generated_text': ''},\n {'generated_text': ''},\n {'generated_text': ''},\n {'generated_text': ''},\n {'generated_text': ''},\n {'generated_text': ''},\n {'generated_text': ''},\n {'generated_text': ''},\n {'generated_text': ''},\n {'generated_text': ''},\n {'generated_text': ''},\n {'generated_text': ''},\n {'generated_text': ''},\n {'generated_text': ''},\n {'generated_text': ''},\n {'generated_text': ''},\n {'generated_text': ''},\n {'generated_text': ''},\n {'generated_text': ''},\n {'generated_text': ''},\n {'generated_text': ''},\n {'generated_text': ''},\n {'generated_text': ''},\n {'generated_text': ''},\n {'generated_text': ''},\n {'generated_text': ''},\n {'generated_text': ''},\n {'generated_text': ''},\n {'generated_text': ''},\n {'generated_text': ''},\n {'generated_text': ''},\n {'generated_text': ''},\n {'generated_text': ''},\n {'generated_text': ''},\n {'generated_text': ''},\n {'generated_text': ''},\n {'generated_text': ''},\n {'generated_text': ''},\n {'generated_text': ''},\n {'generated_text': ''},\n {'generated_text': ''},\n {'generated_text': ''},\n {'generated_text': ''},\n {'generated_text': ''},\n {'generated_text': ''},\n {'generated_text': ''},\n {'generated_text': ''},\n {'generated_text': ''}]"
     },
     "execution_count": 10,
     "metadata": {},
     "output_type": "execute_result"
    }
   ],
   "source": [
    "pipe(csv['description'].tolist())"
   ],
   "metadata": {
    "collapsed": false,
    "ExecuteTime": {
     "end_time": "2023-10-08T12:21:37.818596746Z",
     "start_time": "2023-10-08T12:18:47.515421452Z"
    }
   },
   "id": "2c29028a46757310"
  },
  {
   "cell_type": "code",
   "execution_count": null,
   "outputs": [],
   "source": [],
   "metadata": {
    "collapsed": false
   },
   "id": "56d6c3ac1673b3fb"
  }
 ],
 "metadata": {
  "kernelspec": {
   "display_name": "Python 3",
   "language": "python",
   "name": "python3"
  },
  "language_info": {
   "codemirror_mode": {
    "name": "ipython",
    "version": 2
   },
   "file_extension": ".py",
   "mimetype": "text/x-python",
   "name": "python",
   "nbconvert_exporter": "python",
   "pygments_lexer": "ipython2",
   "version": "2.7.6"
  }
 },
 "nbformat": 4,
 "nbformat_minor": 5
}
