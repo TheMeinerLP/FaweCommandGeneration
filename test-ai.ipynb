{
 "cells": [
  {
   "cell_type": "code",
   "execution_count": 10,
   "id": "initial_id",
   "metadata": {
    "collapsed": true,
    "ExecuteTime": {
     "end_time": "2023-10-09T11:53:09.631594523Z",
     "start_time": "2023-10-09T11:53:09.589470636Z"
    }
   },
   "outputs": [],
   "source": [
    "import torch\n",
    "from transformers import pipeline"
   ]
  },
  {
   "cell_type": "code",
   "execution_count": 11,
   "outputs": [],
   "source": [
    "pipe = pipeline(\"text2text-generation\", model=\"output/models/english-fawecommandgerneration-mt5-small-512\", device=0)"
   ],
   "metadata": {
    "collapsed": false,
    "ExecuteTime": {
     "end_time": "2023-10-09T11:53:13.202406142Z",
     "start_time": "2023-10-09T11:53:10.479533878Z"
    }
   },
   "id": "66a1bea853b024e1"
  },
  {
   "cell_type": "code",
   "execution_count": 15,
   "outputs": [
    {
     "data": {
      "text/plain": "'//deform z+=0.314*sin(y^2+x^2)'"
     },
     "execution_count": 15,
     "metadata": {},
     "output_type": "execute_result"
    }
   ],
   "source": [
    "pipe(\"make a curve deformation with a intensity of 0.098\")[0]['generated_text']"
   ],
   "metadata": {
    "collapsed": false,
    "ExecuteTime": {
     "end_time": "2023-10-09T11:53:40.344937564Z",
     "start_time": "2023-10-09T11:53:40.110464897Z"
    }
   },
   "id": "58aaa0a63d49b61e"
  },
  {
   "cell_type": "code",
   "execution_count": 4,
   "outputs": [
    {
     "data": {
      "text/plain": "'//deform x/=1/3;y/=1/3;z/=1/3'"
     },
     "execution_count": 4,
     "metadata": {},
     "output_type": "execute_result"
    }
   ],
   "source": [
    "pipe(\"Make my structure 24 times smaller\")[0]['generated_text']"
   ],
   "metadata": {
    "collapsed": false,
    "ExecuteTime": {
     "end_time": "2023-10-09T09:58:22.785682265Z",
     "start_time": "2023-10-09T09:58:22.522725224Z"
    }
   },
   "id": "2ca5a011fefcc749"
  },
  {
   "cell_type": "code",
   "execution_count": 5,
   "outputs": [],
   "source": [
    "import pandas as pd"
   ],
   "metadata": {
    "collapsed": false,
    "ExecuteTime": {
     "end_time": "2023-10-09T09:58:24.752243971Z",
     "start_time": "2023-10-09T09:58:24.628050781Z"
    }
   },
   "id": "3df210172ba7e527"
  },
  {
   "cell_type": "code",
   "execution_count": 6,
   "outputs": [],
   "source": [
    "csv = pd.read_csv('datasets/train.csv')"
   ],
   "metadata": {
    "collapsed": false,
    "ExecuteTime": {
     "end_time": "2023-10-09T09:58:25.476521438Z",
     "start_time": "2023-10-09T09:58:25.473074150Z"
    }
   },
   "id": "892f9aec3aaa2f7a"
  },
  {
   "cell_type": "code",
   "execution_count": 7,
   "outputs": [
    {
     "data": {
      "text/plain": "               command               description\n0          //gmask air  create a global air mask\n1              //gmask       disable global mask\n2          //set stone                 set stone\n3               //undo    undo my last operation\n4  //replace stone air      replace stone to air",
      "text/html": "<div>\n<style scoped>\n    .dataframe tbody tr th:only-of-type {\n        vertical-align: middle;\n    }\n\n    .dataframe tbody tr th {\n        vertical-align: top;\n    }\n\n    .dataframe thead th {\n        text-align: right;\n    }\n</style>\n<table border=\"1\" class=\"dataframe\">\n  <thead>\n    <tr style=\"text-align: right;\">\n      <th></th>\n      <th>command</th>\n      <th>description</th>\n    </tr>\n  </thead>\n  <tbody>\n    <tr>\n      <th>0</th>\n      <td>//gmask air</td>\n      <td>create a global air mask</td>\n    </tr>\n    <tr>\n      <th>1</th>\n      <td>//gmask</td>\n      <td>disable global mask</td>\n    </tr>\n    <tr>\n      <th>2</th>\n      <td>//set stone</td>\n      <td>set stone</td>\n    </tr>\n    <tr>\n      <th>3</th>\n      <td>//undo</td>\n      <td>undo my last operation</td>\n    </tr>\n    <tr>\n      <th>4</th>\n      <td>//replace stone air</td>\n      <td>replace stone to air</td>\n    </tr>\n  </tbody>\n</table>\n</div>"
     },
     "execution_count": 7,
     "metadata": {},
     "output_type": "execute_result"
    }
   ],
   "source": [
    "csv.head()"
   ],
   "metadata": {
    "collapsed": false,
    "ExecuteTime": {
     "end_time": "2023-10-09T09:58:26.234428633Z",
     "start_time": "2023-10-09T09:58:26.231316311Z"
    }
   },
   "id": "effb67277ee916ef"
  },
  {
   "cell_type": "code",
   "execution_count": 8,
   "outputs": [
    {
     "data": {
      "text/plain": "[{'generated_text': '//gmask air'},\n {'generated_text': '//gmask'},\n {'generated_text': '//set stone'},\n {'generated_text': '//undo'},\n {'generated_text': '//replace stone air'},\n {'generated_text': '//br sphere stone 5'},\n {'generated_text': '//wand'},\n {'generated_text': '//gmask y>15 '},\n {'generated_text': '//deform z+=0.314*sin(y^2+x^2)'},\n {'generated_text': '//deform x/=3/1;y/=3/1;z/=3/1'},\n {'generated_text': '//deform x/=1/3;y/=1/3;z/=1/3'},\n {'generated_text': '//nbtinfo'},\n {'generated_text': '//chunkinfo'},\n {'generated_text': '//distr -c -d'},\n {'generated_text': '//distr -c -d -p 2'},\n {'generated_text': '//count oak_leaves'},\n {'generated_text': '//count rose_bush[half=upper]'},\n {'generated_text': '//size'},\n {'generated_text': '//size -c'},\n {'generated_text': '//biomelist'},\n {'generated_text': '//biomelist -p 2'},\n {'generated_text': '//biomelist -t'},\n {'generated_text': '//setbiome $minecraft:warm_ocean'},\n {'generated_text': '//setbiome forest -p'},\n {'generated_text': '//setbiome forest -p'},\n {'generated_text': '//fill stone,cobblestone,air 15 2 down'},\n {'generated_text': '//removenear grass_block 50'},\n {'generated_text': '//gmask #offset[0][5][3][stone,diorite,cobblestone] '},\n {'generated_text': '//replace stone 50%stone,20%air,30%diamond_block'},\n {'generated_text': '//gmask %50'},\n {'generated_text': '//gmask #existing'},\n {'generated_text': '//gmask #surface'},\n {'generated_text': '//gmask $warm_ocean'},\n {'generated_text': '//gmask !dirt'},\n {'generated_text': '//deform x/=1/5;y/=1/5;z/=1/5'},\n {'generated_text': '//deform x/=1/7;y/=1/7;z/=1/7'},\n {'generated_text': '//deform x/=1/15;y/=1/15;z/=1/15'},\n {'generated_text': '//deform x/=4/1;y/=4/1;z/=4/1'},\n {'generated_text': '//deform x/=8/1;y/=8/1;z/=8/1'},\n {'generated_text': '//deform x/=16/1;y/=16/1;z/=16/1'},\n {'generated_text': '//deform x/=16/1;y/=8/1;z/=4/1'},\n {'generated_text': '//gmask %25'},\n {'generated_text': '//gmask %75'},\n {'generated_text': '//pos1'},\n {'generated_text': '//pos2'},\n {'generated_text': '//1'},\n {'generated_text': '//2'},\n {'generated_text': '//copy'},\n {'generated_text': '//copy -b'},\n {'generated_text': '//paste'},\n {'generated_text': '//paste -a'},\n {'generated_text': '//paste -b'},\n {'generated_text': '//paste'},\n {'generated_text': '//rotate 0 0 90'},\n {'generated_text': '//rotate 0 0 45'},\n {'generated_text': '//rotate 0 90 0'},\n {'generated_text': '//rotate 0 45 0'},\n {'generated_text': '//rotate 90 0 0'},\n {'generated_text': '//rotate 45 0 0'},\n {'generated_text': '//rotate 90 90 90'},\n {'generated_text': '//rotate 90 45 0'},\n {'generated_text': '//thaw 30'},\n {'generated_text': '//thaw 100'},\n {'generated_text': '//fixlava 67'},\n {'generated_text': '//fixlava 45'},\n {'generated_text': '//fixwater 5'},\n {'generated_text': '//fixwater 11'},\n {'generated_text': '//snow 15'},\n {'generated_text': '//snow 51'},\n {'generated_text': '//snow 52'},\n {'generated_text': '//snow 32'},\n {'generated_text': '//snow 74'},\n {'generated_text': '//snow 89'},\n {'generated_text': '//snow 55'},\n {'generated_text': '//snow 63'},\n {'generated_text': '//snow 88'},\n {'generated_text': '//snow 200'},\n {'generated_text': '//snow 25'},\n {'generated_text': '//fixwater 1'},\n {'generated_text': '//fixwater 2'},\n {'generated_text': '//fixwater 3'},\n {'generated_text': '//fixwater 4'},\n {'generated_text': '//fixwater 123'},\n {'generated_text': '//fixwater 46'},\n {'generated_text': '//fixwater 78'},\n {'generated_text': '//fixwater 79'},\n {'generated_text': '//snow 300'},\n {'generated_text': '//snow 299'},\n {'generated_text': '//cyl stone 10 5'},\n {'generated_text': '//pyramid glass 15'},\n {'generated_text': '//hpyramid air 20'},\n {'generated_text': '//hcyl bricks 8 10'},\n {'generated_text': '//smooth 3'},\n {'generated_text': '//overlay grass'},\n {'generated_text': '//butcher 50'},\n {'generated_text': '//drain 20'},\n {'generated_text': '//green 15'},\n {'generated_text': '//setbiome jungle'},\n {'generated_text': '//naturalize'},\n {'generated_text': '//center gold_block'},\n {'generated_text': '//line obsidian 3'},\n {'generated_text': '//curve quartz_block 5'},\n {'generated_text': '//move 10 up'},\n {'generated_text': '//stack 5 west'},\n {'generated_text': '//shift 3 south'},\n {'generated_text': '//flip north'},\n {'generated_text': '//rotate 90'},\n {'generated_text': '//replacenear 10 stone air'},\n {'generated_text': '//schematic save my_schematic'},\n {'generated_text': '//schematic load my_schematic'},\n {'generated_text': '//schematic list'},\n {'generated_text': '//brush sphere sand 3'},\n {'generated_text': '//brush cylinder gravel 4 5'},\n {'generated_text': '//copy'},\n {'generated_text': '//cut'},\n {'generated_text': '//paste'},\n {'generated_text': '//undo'},\n {'generated_text': '//redo'},\n {'generated_text': '//sel cuboid'},\n {'generated_text': '//sel poly'},\n {'generated_text': '//set 5%stone,95%air'},\n {'generated_text': '//replace sand sandstone'},\n {'generated_text': '//overlay snow'},\n {'generated_text': '//walls oak_fence'},\n {'generated_text': '//faces bricks'},\n {'generated_text': '//smooth 5'},\n {'generated_text': '//drain 30'},\n {'generated_text': '//extinguish'},\n {'generated_text': '//butcher 100 -a'},\n {'generated_text': '//remove items 50'},\n {'generated_text': '//stack 10 east'},\n {'generated_text': '//expand 5 up'},\n {'generated_text': '//contract 3 west'},\n {'generated_text': '//shift 10 up'},\n {'generated_text': '//rotate 180'},\n {'generated_text': '//pumpkins'},\n {'generated_text': '//thaw 50'},\n {'generated_text': '//green -f'},\n {'generated_text': '//schematic save castle'},\n {'generated_text': '//schematic load castle'},\n {'generated_text': '//schematic formats'},\n {'generated_text': '//brush smooth 5'},\n {'generated_text': '//brush gravity 5'},\n {'generated_text': '//removenear diamond_ore 10'},\n {'generated_text': '//replacenear 20 sand gravel'},\n {'generated_text': '//snow 10'},\n {'generated_text': '//thaw'},\n {'generated_text': '//regen'},\n {'generated_text': '//ascend'},\n {'generated_text': '//descend'},\n {'generated_text': '//ceil'},\n {'generated_text': '//thru'},\n {'generated_text': '//jumpto'},\n {'generated_text': '//up 10'},\n {'generated_text': '//unstuck'},\n {'generated_text': '//overlay stone'},\n {'generated_text': '//inset 10'},\n {'generated_text': '//outset 10'},\n {'generated_text': '//naturalize'},\n {'generated_text': '//line stone 5'},\n {'generated_text': '//cycler'},\n {'generated_text': '//regen'},\n {'generated_text': '//unstuck'},\n {'generated_text': '//delchunks'},\n {'generated_text': '//listchunks'},\n {'generated_text': '//chunkinfo'},\n {'generated_text': '//deform x+=10;y+=10;z+=10'},\n {'generated_text': '//generate red_wool N=5; a=atan2(x,z); r=(cos(pi/N))/cos(a-((2*pi)/N)*floor((N*a+pi)/(2*pi))); (x^2+z^2)<r^2'},\n {'generated_text': '//generate red_wool N=5; a=atan2(x,z); r=(cos(pi/N))/cos(a-((2*pi)/N)*floor((N*a+pi)/(2*pi))); (x^2+z^2)<r^2'},\n {'generated_text': '//br blob #simplex[10][yellow_terracotta,orange_terracotta] 10,15,20 100 80 50'},\n {'generated_text': '//br blob #simplex[5][blue_wool,white_wool] 5,10,15 80 70 40'},\n {'generated_text': '//br blob #simplex[8][red_wool,black_wool] 8,12,16 90 75 45'},\n {'generated_text': '//br blob #simplex[10][green_wool,yellow_wool] 10,14,18 100 80 50'},\n {'generated_text': '//br blob #simplex[12][purple_wool,pink_wool] 12,16,20 110 85 55'},\n {'generated_text': '//br blob #simplex[15][orange_wool,brown_wool] 15,20,25 120 90 60'},\n {'generated_text': '//br blob #simplex[20][lime_wool,gray_wool] 20,25,30 130 95 65'},\n {'generated_text': '//br blob #simplex[6][cyan_wool,light_gray_wool] 6,11,16 85 72 42'},\n {'generated_text': '//br blob #simplex[7][blue_terracotta,white_terracotta] 7,12,17 88 74 44'},\n {'generated_text': '//br blob #simplex[9][red_terracotta,black_terracotta] 9,13,17 95 78 48'},\n {'generated_text': '//br blob #simplex[11][green_terracotta,yellow_terracotta] 11,15,19 105 82 52'},\n {'generated_text': '//br blob #simplex[13][purple_terracotta,pink_terracotta] 13,17,21 115 87 57'},\n {'generated_text': '//br blob #simplex[16][orange_terracotta,brown_terracotta] 16,21,26 125 92 62'},\n {'generated_text': '//br blob #simplex[21][lime_terracotta,gray_terracotta] 21,26,31 135 97 67'},\n {'generated_text': '//br blob #simplex[4][cyan_terracotta,light_gray_terracotta] 4,9,14 82 69 39'},\n {'generated_text': '//br blob #simplex[5][blue_wool,white_wool] 5,10,15 80 70 40'},\n {'generated_text': '//br blob #simplex[8][red_wool,black_wool] 8,12,16 90 75 45'},\n {'generated_text': '//br blob #simplex[10][green_wool,yellow_wool] 10,14,18 100 80 50'},\n {'generated_text': '//br blob #simplex[12][purple_wool,pink_wool] 12,16,20 110 85 55'},\n {'generated_text': '//br blob #simplex[15][orange_wool,brown_wool] 15,20,25 120 90 60'},\n {'generated_text': '//br blob #simplex[20][lime_wool,gray_wool] 20,25,30 130 95 65'},\n {'generated_text': '//br blob #simplex[6][cyan_wool,light_gray_wool] 6,11,16 85 72 42'},\n {'generated_text': '//br blob #simplex[7][blue_terracotta,white_terracotta] 7,12,17 88 74 44'},\n {'generated_text': '//br blob #simplex[9][red_terracotta,black_terracotta] 9,13,17 95 78 48'},\n {'generated_text': '//br blob #simplex[11][green_terracotta,yellow_terracotta] 11,15,19 105 82 52'},\n {'generated_text': '//br blob #simplex[13][purple_terracotta,pink_terracotta] 13,17,21 115 87 57'},\n {'generated_text': '//br blob #simplex[16][orange_terracotta,brown_terracotta] 16,21,26 125 92 62'},\n {'generated_text': '//br blob #simplex[21][lime_terracotta,gray_terracotta] 21,26,31 135 97 67'},\n {'generated_text': '//br blob #simplex[4][cyan_terracotta,light_gray_terracotta] 4,9,14 82 69 39'},\n {'generated_text': '//br blob #simplex[25][magenta_terracotta,light_blue_terracotta] 25,30,35 140 100 70'},\n {'generated_text': '//generate red_wool N=5; a=atan2(x,z); r=(cos(pi/N))/cos(a-((2*pi)/N)*floor((N*a+pi)/(2*pi))); (x^2+z^2)<r^2'},\n {'generated_text': '//generate blue_wool N=6; a=atan2(x,z); r=(cos(pi/N))/cos(a-((2*pi)/N)*floor((N*a+pi)/(2*pi))); (x^2+z^2)<r^2'},\n {'generated_text': '//generate green_wool N=7; a=atan2(x,z); r=(cos(pi/N))/cos(a-((2*pi)/N)*floor((N*a+pi)/(2*pi))); (x^2+z^2)<r^2'},\n {'generated_text': '//generate yellow_wool N=8; a=atan2(x,z); r=(cos(pi/N))/cos(a-((2*pi)/N)*floor((N*a+pi)/(2*pi))); (x^2+z^2)<r^2'},\n {'generated_text': '//generate purple_wool N=9; a=atan2(x,z); r=(cos(pi/N))/cos(a-((2*pi)/N)*floor((N*a+pi)/(2*pi))); (x^2+z^2)<r^2'},\n {'generated_text': '//generate orange_wool N=10; a=atan2(x,z); r=(cos(pi/N))/cos(a-((2*pi)/N)*floor((N*a+pi)/(2*pi))); (x^2+z^2)<r^2'},\n {'generated_text': '//generate pink_wool N=11; a=atan2(x,z); r=(cos(pi/N))/cos(a-((2*pi)/N)*floor((N*a+pi)/(2*pi))); (x^2+z^2)<r^2'},\n {'generated_text': '//generate cyan_wool N=12; a=atan2(x,z); r=(cos(pi/N))/cos(a-((2*pi)/N)*floor((N*a+pi)/(2*pi))); (x^2+z^2)<r^2'},\n {'generated_text': '//generate brown_wool N=13; a=atan2(x,z); r=(cos(pi/N))/cos(a-((2*pi)/N)*floor((N*a+pi)/(2*pi))); (x^2+z^2)<r^2'},\n {'generated_text': '//generate lime_wool N=14; a=atan2(x,z); r=(cos(pi/N))/cos(a-((2*pi)/N)*floor((N*a+pi)/(2*pi))); (x^2+z^2)<r^2'},\n {'generated_text': '//generate black_wool N=15; a=atan2(x,z); r=(cos(pi/N))/cos(a-((2*pi)/N)*floor((N*a+pi)/(2*pi))); (x^2+z^2)<r^2'},\n {'generated_text': '//generate white_wool N=16; a=atan2(x,z); r=(cos(pi/N))/cos(a-((2*pi)/N)*floor((N*a+pi)/(2*pi))); (x^2+z^2)<r^2'},\n {'generated_text': '//generate gray_wool N=17; a=atan2(x,z); r=(cos(pi/N))/cos(a-((2*pi)/N)*floor((N*a+pi)/(2*pi))); (x^2+z^2)<r^2'},\n {'generated_text': '//generate light_blue_wool N=18; a=atan2(x,z); r=(cos(pi/N))/cos(a-((2*pi)/N)*floor((N*a+pi)/(2*pi))); (x^2+z^2)<r^2'},\n {'generated_text': '//generate light_gray_wool N=20; a=atan2(x,z); r=(cos(pi/N))/cos(a-((2*pi)/N)*floor((N*a+pi)/(2*pi))); (x^2+z^2)<r^2'},\n {'generated_text': '//re =(random()<1-(x/80)) sculk'},\n {'generated_text': '//re =(random()<1-(x/70)) sculk'},\n {'generated_text': '//re =(random()<1-(x/60)) sculk'},\n {'generated_text': '//re =(random()<1-(x/50)) sculk'},\n {'generated_text': '//re =(random()<1-(x/40)) sculk'},\n {'generated_text': '//re =(random()<1-(x/30)) sculk'},\n {'generated_text': '//re =(random()<1-(x/20)) sculk'},\n {'generated_text': '//re =(random()<1-(x/10)) sculk'},\n {'generated_text': '//re =(random()<1-(x/90)) sculk'},\n {'generated_text': '//re =(random()<1-(x/100)) sculk'},\n {'generated_text': '//re =(random()<1-(x/110)) sculk'},\n {'generated_text': '//re =(random()<1-(x/120)) sculk'},\n {'generated_text': '//re =(random()<1-(x/130)) sculk'},\n {'generated_text': '//re =(random()<1-(x/140)) sculk'},\n {'generated_text': '//re =(random()<1-(x/150)) sculk'},\n {'generated_text': '//replace stone wood'},\n {'generated_text': '//replace water lava'},\n {'generated_text': '//replace grass_block sand'},\n {'generated_text': '//replace oak_leaves birch_leaves'},\n {'generated_text': '//replace dirt gravel'},\n {'generated_text': '//replace cobblestone mossy_cobblestone'},\n {'generated_text': '//replace sandstone red_sandstone'},\n {'generated_text': '//replace quartz_block nether_bricks'},\n {'generated_text': '//replace oak_log spruce_log'},\n {'generated_text': '//replace white_wool black_wool'},\n {'generated_text': '//replace gold_block diamond_block'},\n {'generated_text': '//replace iron_block emerald_block'},\n {'generated_text': '//replace clay terracotta'},\n {'generated_text': '//replace glass stained_glass'},\n {'generated_text': '//replace obsidian crying_obsidian'},\n {'generated_text': '//replace dirt stone'},\n {'generated_text': '//replace stone grass_block'},\n {'generated_text': '//replace grass_block water'},\n {'generated_text': '//replace water lava'},\n {'generated_text': '//replace lava bedrock'},\n {'generated_text': '//replace bedrock sand'},\n {'generated_text': '//replace sand gravel'},\n {'generated_text': '//replace gravel gold_ore'},\n {'generated_text': '//replace gold_ore iron_ore'},\n {'generated_text': '//replace iron_ore coal_ore'}]"
     },
     "execution_count": 8,
     "metadata": {},
     "output_type": "execute_result"
    }
   ],
   "source": [
    "pipe(csv['question'].tolist())"
   ],
   "metadata": {
    "collapsed": false,
    "ExecuteTime": {
     "end_time": "2023-10-09T09:59:18.914120653Z",
     "start_time": "2023-10-09T09:58:27.114954857Z"
    }
   },
   "id": "2c29028a46757310"
  },
  {
   "cell_type": "code",
   "execution_count": null,
   "outputs": [],
   "source": [],
   "metadata": {
    "collapsed": false
   },
   "id": "56d6c3ac1673b3fb"
  }
 ],
 "metadata": {
  "kernelspec": {
   "display_name": "Python 3",
   "language": "python",
   "name": "python3"
  },
  "language_info": {
   "codemirror_mode": {
    "name": "ipython",
    "version": 2
   },
   "file_extension": ".py",
   "mimetype": "text/x-python",
   "name": "python",
   "nbconvert_exporter": "python",
   "pygments_lexer": "ipython2",
   "version": "2.7.6"
  }
 },
 "nbformat": 4,
 "nbformat_minor": 5
}
